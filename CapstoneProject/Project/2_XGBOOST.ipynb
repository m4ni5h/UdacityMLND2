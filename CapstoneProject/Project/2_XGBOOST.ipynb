{
 "cells": [
  {
   "cell_type": "markdown",
   "metadata": {},
   "source": [
    "# XGBOOST Implementation"
   ]
  },
  {
   "cell_type": "code",
   "execution_count": 1,
   "metadata": {},
   "outputs": [],
   "source": [
    "# Load Python libraries\n",
    "from sklearn import metrics, ensemble\n",
    "from sklearn.model_selection import cross_validate,GridSearchCV,train_test_split\n",
    "import xgboost as xgb\n",
    "import numpy as np\n",
    "import pandas as pd\n",
    "import seaborn as sns\n",
    "import matplotlib.pyplot as plt\n",
    "import matplotlib as mpl\n",
    "import warnings\n",
    "warnings.filterwarnings('ignore')\n",
    "plt.style.use('ggplot')"
   ]
  },
  {
   "cell_type": "code",
   "execution_count": 2,
   "metadata": {},
   "outputs": [],
   "source": [
    "# Load data\n",
    "df = pd.read_csv('input/training/source_data/train.csv')\n",
    "\n",
    "# 1% sample of items\n",
    "df = df.sample(frac=0.01)"
   ]
  },
  {
   "cell_type": "code",
   "execution_count": 3,
   "metadata": {},
   "outputs": [],
   "source": [
    "# Load and join songs data\n",
    "songs = pd.read_csv('input/training/source_data/songs.csv')\n",
    "df = pd.merge(df, songs, on='song_id', how='left')\n",
    "del songs\n",
    "\n",
    "# Load and join songs data\n",
    "members = pd.read_csv('input/training/source_data/members.csv')\n",
    "df = pd.merge(df, members, on='msno', how='left')\n",
    "del members"
   ]
  },
  {
   "cell_type": "code",
   "execution_count": 4,
   "metadata": {},
   "outputs": [
    {
     "name": "stdout",
     "output_type": "stream",
     "text": [
      "<class 'pandas.core.frame.DataFrame'>\n",
      "Int64Index: 15000 entries, 0 to 14999\n",
      "Data columns (total 18 columns):\n",
      "msno                      15000 non-null object\n",
      "song_id                   15000 non-null object\n",
      "source_system_tab         14964 non-null object\n",
      "source_screen_name        14348 non-null object\n",
      "source_type               14970 non-null object\n",
      "target                    15000 non-null int64\n",
      "song_length               15000 non-null int64\n",
      "genre_ids                 14766 non-null object\n",
      "artist_name               15000 non-null object\n",
      "composer                  11745 non-null object\n",
      "lyricist                  8788 non-null object\n",
      "language                  15000 non-null float64\n",
      "city                      15000 non-null int64\n",
      "bd                        15000 non-null int64\n",
      "gender                    9175 non-null object\n",
      "registered_via            15000 non-null int64\n",
      "registration_init_time    15000 non-null int64\n",
      "expiration_date           15000 non-null int64\n",
      "dtypes: float64(1), int64(7), object(10)\n",
      "memory usage: 2.2+ MB\n"
     ]
    }
   ],
   "source": [
    "df.info()"
   ]
  },
  {
   "cell_type": "code",
   "execution_count": 5,
   "metadata": {},
   "outputs": [
    {
     "data": {
      "text/plain": [
       "msno                       0.000000\n",
       "song_id                    0.000000\n",
       "source_system_tab          0.240000\n",
       "source_screen_name         4.346667\n",
       "source_type                0.200000\n",
       "target                     0.000000\n",
       "song_length                0.000000\n",
       "genre_ids                  1.560000\n",
       "artist_name                0.000000\n",
       "composer                  21.700000\n",
       "lyricist                  41.413333\n",
       "language                   0.000000\n",
       "city                       0.000000\n",
       "bd                         0.000000\n",
       "gender                    38.833333\n",
       "registered_via             0.000000\n",
       "registration_init_time     0.000000\n",
       "expiration_date            0.000000\n",
       "dtype: float64"
      ]
     },
     "execution_count": 5,
     "metadata": {},
     "output_type": "execute_result"
    }
   ],
   "source": [
    "# Count Na in %\n",
    "df.isnull().sum()/df.isnull().count()*100"
   ]
  },
  {
   "cell_type": "code",
   "execution_count": 6,
   "metadata": {},
   "outputs": [],
   "source": [
    "# Replace NA\n",
    "for i in df.select_dtypes(include=['object']).columns:\n",
    "    df[i][df[i].isnull()] = 'unknown'\n",
    "df = df.fillna(value=0)"
   ]
  },
  {
   "cell_type": "code",
   "execution_count": 7,
   "metadata": {},
   "outputs": [],
   "source": [
    "# Create Dates\n",
    "\n",
    "# registration_init_time\n",
    "df.registration_init_time = pd.to_datetime(df.registration_init_time, format='%Y%m%d', errors='ignore')\n",
    "df['registration_init_time_year'] = df['registration_init_time'].dt.year\n",
    "df['registration_init_time_month'] = df['registration_init_time'].dt.month\n",
    "df['registration_init_time_day'] = df['registration_init_time'].dt.day\n",
    "\n",
    "# expiration_date\n",
    "df.expiration_date = pd.to_datetime(df.expiration_date,  format='%Y%m%d', errors='ignore')\n",
    "df['expiration_date_year'] = df['expiration_date'].dt.year\n",
    "df['expiration_date_month'] = df['expiration_date'].dt.month\n",
    "df['expiration_date_day'] = df['expiration_date'].dt.day"
   ]
  },
  {
   "cell_type": "code",
   "execution_count": 8,
   "metadata": {},
   "outputs": [
    {
     "data": {
      "text/html": [
       "<div>\n",
       "<style scoped>\n",
       "    .dataframe tbody tr th:only-of-type {\n",
       "        vertical-align: middle;\n",
       "    }\n",
       "\n",
       "    .dataframe tbody tr th {\n",
       "        vertical-align: top;\n",
       "    }\n",
       "\n",
       "    .dataframe thead th {\n",
       "        text-align: right;\n",
       "    }\n",
       "</style>\n",
       "<table border=\"1\" class=\"dataframe\">\n",
       "  <thead>\n",
       "    <tr style=\"text-align: right;\">\n",
       "      <th></th>\n",
       "      <th>msno</th>\n",
       "      <th>song_id</th>\n",
       "      <th>source_system_tab</th>\n",
       "      <th>source_screen_name</th>\n",
       "      <th>source_type</th>\n",
       "      <th>target</th>\n",
       "      <th>song_length</th>\n",
       "      <th>genre_ids</th>\n",
       "      <th>artist_name</th>\n",
       "      <th>composer</th>\n",
       "      <th>...</th>\n",
       "      <th>gender</th>\n",
       "      <th>registered_via</th>\n",
       "      <th>registration_init_time</th>\n",
       "      <th>expiration_date</th>\n",
       "      <th>registration_init_time_year</th>\n",
       "      <th>registration_init_time_month</th>\n",
       "      <th>registration_init_time_day</th>\n",
       "      <th>expiration_date_year</th>\n",
       "      <th>expiration_date_month</th>\n",
       "      <th>expiration_date_day</th>\n",
       "    </tr>\n",
       "  </thead>\n",
       "  <tbody>\n",
       "    <tr>\n",
       "      <th>0</th>\n",
       "      <td>5PbBykvNqwYVVepugrfvkMFjAJjciS8TAuv4qX9/r2o=</td>\n",
       "      <td>aRZlTjtdmMG2jifvMN/mBcl+SWyXB+zxbrZjoO5LdFE=</td>\n",
       "      <td>my library</td>\n",
       "      <td>Local playlist more</td>\n",
       "      <td>local-library</td>\n",
       "      <td>1</td>\n",
       "      <td>229172</td>\n",
       "      <td>465</td>\n",
       "      <td>謝和弦 (R-chord)</td>\n",
       "      <td>R-chord</td>\n",
       "      <td>...</td>\n",
       "      <td>female</td>\n",
       "      <td>3</td>\n",
       "      <td>2014-12-12</td>\n",
       "      <td>2017-09-12</td>\n",
       "      <td>2014</td>\n",
       "      <td>12</td>\n",
       "      <td>12</td>\n",
       "      <td>2017</td>\n",
       "      <td>9</td>\n",
       "      <td>12</td>\n",
       "    </tr>\n",
       "    <tr>\n",
       "      <th>1</th>\n",
       "      <td>lnoxvmKGSqEhA/FDN9JxNUoz6sUlyMCu7AAJNMUE5ac=</td>\n",
       "      <td>Jw0CAzRAZCaiRzBJAjoGGqY+cVxBX4z+V/oeJ7muYfU=</td>\n",
       "      <td>my library</td>\n",
       "      <td>Local playlist more</td>\n",
       "      <td>local-library</td>\n",
       "      <td>1</td>\n",
       "      <td>315373</td>\n",
       "      <td>465</td>\n",
       "      <td>藍又時 (Shadya Lan)</td>\n",
       "      <td>藍又時</td>\n",
       "      <td>...</td>\n",
       "      <td>female</td>\n",
       "      <td>3</td>\n",
       "      <td>2013-09-12</td>\n",
       "      <td>2017-10-01</td>\n",
       "      <td>2013</td>\n",
       "      <td>9</td>\n",
       "      <td>12</td>\n",
       "      <td>2017</td>\n",
       "      <td>10</td>\n",
       "      <td>1</td>\n",
       "    </tr>\n",
       "    <tr>\n",
       "      <th>2</th>\n",
       "      <td>K7obY5lUlZTd6a/byE9NG/e7Q/dlgHfppLbYk8OL7os=</td>\n",
       "      <td>IdOjsvQSPcRRnjLTHjog6bPk2tD0t2mbIrRvgiIZE0A=</td>\n",
       "      <td>my library</td>\n",
       "      <td>Local playlist more</td>\n",
       "      <td>local-library</td>\n",
       "      <td>1</td>\n",
       "      <td>294164</td>\n",
       "      <td>465</td>\n",
       "      <td>林俊傑 (JJ Lin)</td>\n",
       "      <td>JJ Lin</td>\n",
       "      <td>...</td>\n",
       "      <td>male</td>\n",
       "      <td>3</td>\n",
       "      <td>2014-03-17</td>\n",
       "      <td>2018-01-13</td>\n",
       "      <td>2014</td>\n",
       "      <td>3</td>\n",
       "      <td>17</td>\n",
       "      <td>2018</td>\n",
       "      <td>1</td>\n",
       "      <td>13</td>\n",
       "    </tr>\n",
       "    <tr>\n",
       "      <th>3</th>\n",
       "      <td>a7CcAGHxrSitv6Sxs+R2x2MtlKDn69x7zZesc+uGrcc=</td>\n",
       "      <td>oap6kpthib/IaDsMi1BBWWaTBJv4iyC8kIwLq5kZRks=</td>\n",
       "      <td>my library</td>\n",
       "      <td>Local playlist more</td>\n",
       "      <td>album</td>\n",
       "      <td>0</td>\n",
       "      <td>241449</td>\n",
       "      <td>465</td>\n",
       "      <td>Ed Sheeran</td>\n",
       "      <td>unknown</td>\n",
       "      <td>...</td>\n",
       "      <td>female</td>\n",
       "      <td>9</td>\n",
       "      <td>2012-12-25</td>\n",
       "      <td>2018-01-03</td>\n",
       "      <td>2012</td>\n",
       "      <td>12</td>\n",
       "      <td>25</td>\n",
       "      <td>2018</td>\n",
       "      <td>1</td>\n",
       "      <td>3</td>\n",
       "    </tr>\n",
       "    <tr>\n",
       "      <th>4</th>\n",
       "      <td>OfqZlbit7E0SHwkHA3nb9WbFYM3eFHtJiWqY+lgW7UQ=</td>\n",
       "      <td>DvHKv+E/ddqTfv7qcaWi9a9pQ1V/iViKK48l8y9+sjo=</td>\n",
       "      <td>discover</td>\n",
       "      <td>Online playlist more</td>\n",
       "      <td>online-playlist</td>\n",
       "      <td>1</td>\n",
       "      <td>261590</td>\n",
       "      <td>465</td>\n",
       "      <td>飛兒樂團 (F.I.R.)</td>\n",
       "      <td>F.I.R.</td>\n",
       "      <td>...</td>\n",
       "      <td>male</td>\n",
       "      <td>7</td>\n",
       "      <td>2010-10-30</td>\n",
       "      <td>2017-09-16</td>\n",
       "      <td>2010</td>\n",
       "      <td>10</td>\n",
       "      <td>30</td>\n",
       "      <td>2017</td>\n",
       "      <td>9</td>\n",
       "      <td>16</td>\n",
       "    </tr>\n",
       "  </tbody>\n",
       "</table>\n",
       "<p>5 rows × 24 columns</p>\n",
       "</div>"
      ],
      "text/plain": [
       "                                           msno  \\\n",
       "0  5PbBykvNqwYVVepugrfvkMFjAJjciS8TAuv4qX9/r2o=   \n",
       "1  lnoxvmKGSqEhA/FDN9JxNUoz6sUlyMCu7AAJNMUE5ac=   \n",
       "2  K7obY5lUlZTd6a/byE9NG/e7Q/dlgHfppLbYk8OL7os=   \n",
       "3  a7CcAGHxrSitv6Sxs+R2x2MtlKDn69x7zZesc+uGrcc=   \n",
       "4  OfqZlbit7E0SHwkHA3nb9WbFYM3eFHtJiWqY+lgW7UQ=   \n",
       "\n",
       "                                        song_id source_system_tab  \\\n",
       "0  aRZlTjtdmMG2jifvMN/mBcl+SWyXB+zxbrZjoO5LdFE=        my library   \n",
       "1  Jw0CAzRAZCaiRzBJAjoGGqY+cVxBX4z+V/oeJ7muYfU=        my library   \n",
       "2  IdOjsvQSPcRRnjLTHjog6bPk2tD0t2mbIrRvgiIZE0A=        my library   \n",
       "3  oap6kpthib/IaDsMi1BBWWaTBJv4iyC8kIwLq5kZRks=        my library   \n",
       "4  DvHKv+E/ddqTfv7qcaWi9a9pQ1V/iViKK48l8y9+sjo=          discover   \n",
       "\n",
       "     source_screen_name      source_type  target  song_length genre_ids  \\\n",
       "0   Local playlist more    local-library       1       229172       465   \n",
       "1   Local playlist more    local-library       1       315373       465   \n",
       "2   Local playlist more    local-library       1       294164       465   \n",
       "3   Local playlist more            album       0       241449       465   \n",
       "4  Online playlist more  online-playlist       1       261590       465   \n",
       "\n",
       "        artist_name composer  ...  gender  registered_via  \\\n",
       "0     謝和弦 (R-chord)  R-chord  ...  female               3   \n",
       "1  藍又時 (Shadya Lan)      藍又時  ...  female               3   \n",
       "2      林俊傑 (JJ Lin)   JJ Lin  ...    male               3   \n",
       "3        Ed Sheeran  unknown  ...  female               9   \n",
       "4     飛兒樂團 (F.I.R.)   F.I.R.  ...    male               7   \n",
       "\n",
       "   registration_init_time  expiration_date registration_init_time_year  \\\n",
       "0              2014-12-12       2017-09-12                        2014   \n",
       "1              2013-09-12       2017-10-01                        2013   \n",
       "2              2014-03-17       2018-01-13                        2014   \n",
       "3              2012-12-25       2018-01-03                        2012   \n",
       "4              2010-10-30       2017-09-16                        2010   \n",
       "\n",
       "   registration_init_time_month registration_init_time_day  \\\n",
       "0                            12                         12   \n",
       "1                             9                         12   \n",
       "2                             3                         17   \n",
       "3                            12                         25   \n",
       "4                            10                         30   \n",
       "\n",
       "  expiration_date_year  expiration_date_month  expiration_date_day  \n",
       "0                 2017                      9                   12  \n",
       "1                 2017                     10                    1  \n",
       "2                 2018                      1                   13  \n",
       "3                 2018                      1                    3  \n",
       "4                 2017                      9                   16  \n",
       "\n",
       "[5 rows x 24 columns]"
      ]
     },
     "execution_count": 8,
     "metadata": {},
     "output_type": "execute_result"
    }
   ],
   "source": [
    "df.head()"
   ]
  },
  {
   "cell_type": "code",
   "execution_count": 9,
   "metadata": {},
   "outputs": [],
   "source": [
    "# Dates to category\n",
    "df['registration_init_time'] = df['registration_init_time'].astype('category')\n",
    "df['expiration_date'] = df['expiration_date'].astype('category')"
   ]
  },
  {
   "cell_type": "code",
   "execution_count": 10,
   "metadata": {},
   "outputs": [],
   "source": [
    "# Object data to category\n",
    "for col in df.select_dtypes(include=['object']).columns:\n",
    "    df[col] = df[col].astype('category')\n",
    "    \n",
    "# Encoding categorical features\n",
    "for col in df.select_dtypes(include=['category']).columns:\n",
    "    df[col] = df[col].cat.codes"
   ]
  },
  {
   "cell_type": "code",
   "execution_count": 11,
   "metadata": {},
   "outputs": [
    {
     "data": {
      "image/png": "[encoded data removed]",
      "text/plain": [
       "<Figure size 504x360 with 2 Axes>"
      ]
     },
     "metadata": {
      "needs_background": "light"
     },
     "output_type": "display_data"
    }
   ],
   "source": [
    "# Сorrelation matrix\n",
    "plt.figure(figsize=[7,5])\n",
    "fig1 = sns.heatmap(df.corr())\n",
    "plt.show()\n",
    "#fig1 = plt.gcf()\n",
    "#fig1.savefig('CoRelationMatrix.png')\n",
    "fig = fig1.get_figure()\n",
    "fig.savefig('XGBoostPlots/CoRelationMatrix.png', bbox_inches='tight')"
   ]
  },
  {
   "cell_type": "code",
   "execution_count": 12,
   "metadata": {},
   "outputs": [],
   "source": [
    "# Drop columns\n",
    "df = df.drop(['expiration_date', 'lyricist'], 1)"
   ]
  },
  {
   "cell_type": "code",
   "execution_count": 13,
   "metadata": {},
   "outputs": [
    {
     "data": {
      "text/plain": [
       "RandomForestClassifier(bootstrap=True, class_weight=None, criterion='gini',\n",
       "                       max_depth=25, max_features='auto', max_leaf_nodes=None,\n",
       "                       min_impurity_decrease=0.0, min_impurity_split=None,\n",
       "                       min_samples_leaf=1, min_samples_split=2,\n",
       "                       min_weight_fraction_leaf=0.0, n_estimators=250,\n",
       "                       n_jobs=None, oob_score=False, random_state=None,\n",
       "                       verbose=0, warm_start=False)"
      ]
     },
     "execution_count": 13,
     "metadata": {},
     "output_type": "execute_result"
    }
   ],
   "source": [
    "# Model with the best estimator\n",
    "model = ensemble.RandomForestClassifier(n_estimators=250, max_depth=25)\n",
    "model.fit(df[df.columns[df.columns != 'target']], df.target)"
   ]
  },
  {
   "cell_type": "code",
   "execution_count": 14,
   "metadata": {},
   "outputs": [],
   "source": [
    "df_plot = pd.DataFrame({'features': df.columns[df.columns != 'target'],\n",
    "                        'importances': model.feature_importances_})\n",
    "df_plot = df_plot.sort_values('importances', ascending=False)"
   ]
  },
  {
   "cell_type": "code",
   "execution_count": 15,
   "metadata": {},
   "outputs": [
    {
     "data": {
      "image/png": "[encoded data removed]",
      "text/plain": [
       "<Figure size 792x360 with 1 Axes>"
      ]
     },
     "metadata": {
      "needs_background": "light"
     },
     "output_type": "display_data"
    }
   ],
   "source": [
    "plt.figure(figsize=[11,5])\n",
    "fig1 = sns.barplot(x = df_plot.importances, y = df_plot.features)\n",
    "plt.title('Importances of Features Plot')\n",
    "plt.show()\n",
    "#fig1 = plt.gcf()\n",
    "#fig1.savefig('FeatureImportance.png', dpi=100)\n",
    "fig = fig1.get_figure()\n",
    "fig.savefig('XGBoostPlots/FeatureImportance.png', bbox_inches='tight')"
   ]
  },
  {
   "cell_type": "code",
   "execution_count": 16,
   "metadata": {},
   "outputs": [],
   "source": [
    "# Drop columns with importances < 0.04\n",
    "df = df.drop(df_plot.features[df_plot.importances < 0.04].tolist(), 1)"
   ]
  },
  {
   "cell_type": "code",
   "execution_count": 17,
   "metadata": {},
   "outputs": [
    {
     "data": {
      "text/plain": [
       "Index(['msno', 'song_id', 'source_system_tab', 'source_screen_name',\n",
       "       'source_type', 'target', 'song_length', 'artist_name', 'composer',\n",
       "       'registration_init_time', 'registration_init_time_month',\n",
       "       'registration_init_time_day', 'expiration_date_day'],\n",
       "      dtype='object')"
      ]
     },
     "execution_count": 17,
     "metadata": {},
     "output_type": "execute_result"
    }
   ],
   "source": [
    "# Selected columns\n",
    "df.columns"
   ]
  },
  {
   "cell_type": "markdown",
   "metadata": {},
   "source": [
    "# XGBOOST"
   ]
  },
  {
   "cell_type": "code",
   "execution_count": 18,
   "metadata": {},
   "outputs": [
    {
     "data": {
      "text/plain": [
       "0        1\n",
       "1        1\n",
       "2        1\n",
       "3        0\n",
       "4        1\n",
       "5        0\n",
       "6        1\n",
       "7        1\n",
       "8        1\n",
       "9        1\n",
       "10       1\n",
       "11       1\n",
       "12       1\n",
       "13       1\n",
       "14       1\n",
       "15       1\n",
       "16       1\n",
       "17       0\n",
       "18       1\n",
       "19       1\n",
       "20       1\n",
       "21       1\n",
       "22       0\n",
       "23       1\n",
       "24       1\n",
       "25       1\n",
       "26       1\n",
       "27       0\n",
       "28       1\n",
       "29       0\n",
       "        ..\n",
       "14970    1\n",
       "14971    0\n",
       "14972    1\n",
       "14973    0\n",
       "14974    0\n",
       "14975    1\n",
       "14976    1\n",
       "14977    0\n",
       "14978    1\n",
       "14979    1\n",
       "14980    1\n",
       "14981    1\n",
       "14982    1\n",
       "14983    1\n",
       "14984    1\n",
       "14985    1\n",
       "14986    1\n",
       "14987    0\n",
       "14988    1\n",
       "14989    1\n",
       "14990    1\n",
       "14991    0\n",
       "14992    0\n",
       "14993    0\n",
       "14994    0\n",
       "14995    1\n",
       "14996    1\n",
       "14997    0\n",
       "14998    1\n",
       "14999    1\n",
       "Name: target, Length: 15000, dtype: int64"
      ]
     },
     "execution_count": 18,
     "metadata": {},
     "output_type": "execute_result"
    }
   ],
   "source": [
    "target = df.pop('target')\n",
    "target"
   ]
  },
  {
   "cell_type": "code",
   "execution_count": 19,
   "metadata": {},
   "outputs": [],
   "source": [
    "# Train & Test split\n",
    "train_data, test_data, train_labels, test_labels = train_test_split(df, target, test_size = 0.3)\n",
    "\n",
    "# Delete df\n",
    "del df"
   ]
  },
  {
   "cell_type": "code",
   "execution_count": 23,
   "metadata": {},
   "outputs": [
    {
     "data": {
      "text/plain": [
       "XGBClassifier(base_score=0.5, booster='gbtree', colsample_bylevel=1,\n",
       "              colsample_bynode=1, colsample_bytree=1, gamma=0,\n",
       "              learning_rate=0.1, max_delta_step=0, max_depth=15,\n",
       "              min_child_weight=5, missing=None, n_estimators=300, n_jobs=1,\n",
       "              nthread=None, objective='binary:logistic', random_state=0,\n",
       "              reg_alpha=0, reg_lambda=1, scale_pos_weight=1, seed=None,\n",
       "              silent=None, subsample=1, verbosity=1)"
      ]
     },
     "execution_count": 23,
     "metadata": {},
     "output_type": "execute_result"
    }
   ],
   "source": [
    "# Create model\n",
    "model = xgb.XGBClassifier(learning_rate=0.1, max_depth=15, min_child_weight=5, n_estimators=300)\n",
    "model.fit(train_data, train_labels)"
   ]
  },
  {
   "cell_type": "code",
   "execution_count": 24,
   "metadata": {},
   "outputs": [],
   "source": [
    "# Predicting\n",
    "predict_labels = model.predict(test_data)"
   ]
  },
  {
   "cell_type": "code",
   "execution_count": 25,
   "metadata": {},
   "outputs": [
    {
     "name": "stdout",
     "output_type": "stream",
     "text": [
      "              precision    recall  f1-score   support\n",
      "\n",
      "           0       0.61      0.40      0.48      1529\n",
      "           1       0.74      0.87      0.80      2971\n",
      "\n",
      "    accuracy                           0.71      4500\n",
      "   macro avg       0.67      0.63      0.64      4500\n",
      "weighted avg       0.69      0.71      0.69      4500\n",
      "\n"
     ]
    }
   ],
   "source": [
    "print(metrics.classification_report(test_labels, predict_labels))"
   ]
  },
  {
   "cell_type": "code",
   "execution_count": null,
   "metadata": {},
   "outputs": [],
   "source": []
  }
 ],
 "metadata": {
  "kernelspec": {
   "display_name": "Python 3",
   "language": "python",
   "name": "python3"
  },
  "language_info": {
   "codemirror_mode": {
    "name": "ipython",
    "version": 3
   },
   "file_extension": ".py",
   "mimetype": "text/x-python",
   "name": "python",
   "nbconvert_exporter": "python",
   "pygments_lexer": "ipython3",
   "version": "3.7.3"
  }
 },
 "nbformat": 4,
 "nbformat_minor": 2
}
