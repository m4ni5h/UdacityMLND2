{
 "cells": [
  {
   "cell_type": "markdown",
   "metadata": {},
   "source": [
    "https://www.kaggle.com/myonin/music-recommendation-random-forest-xgboost"
   ]
  },
  {
   "cell_type": "code",
   "execution_count": 35,
   "metadata": {},
   "outputs": [],
   "source": [
    "# Load Python libraries\n",
    "from sklearn import metrics, ensemble\n",
    "from sklearn.model_selection import cross_validate,GridSearchCV,train_test_split\n",
    "import xgboost as xgb\n",
    "import numpy as np\n",
    "import pandas as pd\n",
    "import seaborn as sns\n",
    "import matplotlib.pyplot as plt\n",
    "import matplotlib as mpl\n",
    "import warnings\n",
    "warnings.filterwarnings('ignore')\n",
    "plt.style.use('ggplot')"
   ]
  },
  {
   "cell_type": "code",
   "execution_count": 9,
   "metadata": {},
   "outputs": [],
   "source": [
    "# Load data\n",
    "df = pd.read_csv('input/train.csv')\n",
    "\n",
    "# 1% sample of items\n",
    "df = df.sample(frac=0.01)"
   ]
  },
  {
   "cell_type": "code",
   "execution_count": 11,
   "metadata": {},
   "outputs": [],
   "source": [
    "# Load and join songs data\n",
    "songs = pd.read_csv('input/songs.csv')\n",
    "df = pd.merge(df, songs, on='song_id', how='left')\n",
    "del songs\n",
    "\n",
    "# Load and join songs data\n",
    "members = pd.read_csv('input/members.csv')\n",
    "df = pd.merge(df, members, on='msno', how='left')\n",
    "del members"
   ]
  },
  {
   "cell_type": "code",
   "execution_count": 12,
   "metadata": {},
   "outputs": [
    {
     "name": "stdout",
     "output_type": "stream",
     "text": [
      "<class 'pandas.core.frame.DataFrame'>\n",
      "Int64Index: 73774 entries, 0 to 73773\n",
      "Data columns (total 18 columns):\n",
      "msno                      73774 non-null object\n",
      "song_id                   73774 non-null object\n",
      "source_system_tab         73532 non-null object\n",
      "source_screen_name        69643 non-null object\n",
      "source_type               73571 non-null object\n",
      "target                    73774 non-null int64\n",
      "song_length               73774 non-null int64\n",
      "genre_ids                 72585 non-null object\n",
      "artist_name               73774 non-null object\n",
      "composer                  56931 non-null object\n",
      "lyricist                  41797 non-null object\n",
      "language                  73774 non-null float64\n",
      "city                      73774 non-null int64\n",
      "bd                        73774 non-null int64\n",
      "gender                    44208 non-null object\n",
      "registered_via            73774 non-null int64\n",
      "registration_init_time    73774 non-null int64\n",
      "expiration_date           73774 non-null int64\n",
      "dtypes: float64(1), int64(7), object(10)\n",
      "memory usage: 10.7+ MB\n"
     ]
    }
   ],
   "source": [
    "df.info()"
   ]
  },
  {
   "cell_type": "code",
   "execution_count": 13,
   "metadata": {},
   "outputs": [
    {
     "data": {
      "text/plain": [
       "msno                       0.000000\n",
       "song_id                    0.000000\n",
       "source_system_tab          0.328029\n",
       "source_screen_name         5.599534\n",
       "source_type                0.275165\n",
       "target                     0.000000\n",
       "song_length                0.000000\n",
       "genre_ids                  1.611679\n",
       "artist_name                0.000000\n",
       "composer                  22.830537\n",
       "lyricist                  43.344539\n",
       "language                   0.000000\n",
       "city                       0.000000\n",
       "bd                         0.000000\n",
       "gender                    40.076450\n",
       "registered_via             0.000000\n",
       "registration_init_time     0.000000\n",
       "expiration_date            0.000000\n",
       "dtype: float64"
      ]
     },
     "execution_count": 13,
     "metadata": {},
     "output_type": "execute_result"
    }
   ],
   "source": [
    "# Count Na in %\n",
    "df.isnull().sum()/df.isnull().count()*100"
   ]
  },
  {
   "cell_type": "code",
   "execution_count": 14,
   "metadata": {},
   "outputs": [],
   "source": [
    "# Replace NA\n",
    "for i in df.select_dtypes(include=['object']).columns:\n",
    "    df[i][df[i].isnull()] = 'unknown'\n",
    "df = df.fillna(value=0)"
   ]
  },
  {
   "cell_type": "code",
   "execution_count": 15,
   "metadata": {},
   "outputs": [],
   "source": [
    "# Create Dates\n",
    "\n",
    "# registration_init_time\n",
    "df.registration_init_time = pd.to_datetime(df.registration_init_time, format='%Y%m%d', errors='ignore')\n",
    "df['registration_init_time_year'] = df['registration_init_time'].dt.year\n",
    "df['registration_init_time_month'] = df['registration_init_time'].dt.month\n",
    "df['registration_init_time_day'] = df['registration_init_time'].dt.day\n",
    "\n",
    "# expiration_date\n",
    "df.expiration_date = pd.to_datetime(df.expiration_date,  format='%Y%m%d', errors='ignore')\n",
    "df['expiration_date_year'] = df['expiration_date'].dt.year\n",
    "df['expiration_date_month'] = df['expiration_date'].dt.month\n",
    "df['expiration_date_day'] = df['expiration_date'].dt.day"
   ]
  },
  {
   "cell_type": "code",
   "execution_count": 16,
   "metadata": {},
   "outputs": [
    {
     "data": {
      "text/html": [
       "<div>\n",
       "<style scoped>\n",
       "    .dataframe tbody tr th:only-of-type {\n",
       "        vertical-align: middle;\n",
       "    }\n",
       "\n",
       "    .dataframe tbody tr th {\n",
       "        vertical-align: top;\n",
       "    }\n",
       "\n",
       "    .dataframe thead th {\n",
       "        text-align: right;\n",
       "    }\n",
       "</style>\n",
       "<table border=\"1\" class=\"dataframe\">\n",
       "  <thead>\n",
       "    <tr style=\"text-align: right;\">\n",
       "      <th></th>\n",
       "      <th>msno</th>\n",
       "      <th>song_id</th>\n",
       "      <th>source_system_tab</th>\n",
       "      <th>source_screen_name</th>\n",
       "      <th>source_type</th>\n",
       "      <th>target</th>\n",
       "      <th>song_length</th>\n",
       "      <th>genre_ids</th>\n",
       "      <th>artist_name</th>\n",
       "      <th>composer</th>\n",
       "      <th>...</th>\n",
       "      <th>gender</th>\n",
       "      <th>registered_via</th>\n",
       "      <th>registration_init_time</th>\n",
       "      <th>expiration_date</th>\n",
       "      <th>registration_init_time_year</th>\n",
       "      <th>registration_init_time_month</th>\n",
       "      <th>registration_init_time_day</th>\n",
       "      <th>expiration_date_year</th>\n",
       "      <th>expiration_date_month</th>\n",
       "      <th>expiration_date_day</th>\n",
       "    </tr>\n",
       "  </thead>\n",
       "  <tbody>\n",
       "    <tr>\n",
       "      <th>0</th>\n",
       "      <td>8tSgHKzljg7TyPLYrU9L7CgHIdShVvyV/d6PccMRzhw=</td>\n",
       "      <td>XywYVZbNMapxoPCNykyH/VQ+RElMw2PrF/6tVhUbgS8=</td>\n",
       "      <td>my library</td>\n",
       "      <td>Album more</td>\n",
       "      <td>album</td>\n",
       "      <td>0</td>\n",
       "      <td>125945</td>\n",
       "      <td>2022</td>\n",
       "      <td>RADWIMPS</td>\n",
       "      <td>Akira Kuwahara</td>\n",
       "      <td>...</td>\n",
       "      <td>unknown</td>\n",
       "      <td>3</td>\n",
       "      <td>2014-07-18</td>\n",
       "      <td>2017-10-22</td>\n",
       "      <td>2014</td>\n",
       "      <td>7</td>\n",
       "      <td>18</td>\n",
       "      <td>2017</td>\n",
       "      <td>10</td>\n",
       "      <td>22</td>\n",
       "    </tr>\n",
       "    <tr>\n",
       "      <th>1</th>\n",
       "      <td>AvQSYlMMiYYNMDd+wAuwT0B2yiPuNxGDxai/B4rrWII=</td>\n",
       "      <td>43Qm2YzsP99P5wm37B1JIhezUcQ/1CDjYlQx6rBbz2U=</td>\n",
       "      <td>my library</td>\n",
       "      <td>unknown</td>\n",
       "      <td>top-hits-for-artist</td>\n",
       "      <td>0</td>\n",
       "      <td>346272</td>\n",
       "      <td>458</td>\n",
       "      <td>五月天 (Mayday)</td>\n",
       "      <td>怪獸</td>\n",
       "      <td>...</td>\n",
       "      <td>female</td>\n",
       "      <td>9</td>\n",
       "      <td>2004-03-31</td>\n",
       "      <td>2017-10-27</td>\n",
       "      <td>2004</td>\n",
       "      <td>3</td>\n",
       "      <td>31</td>\n",
       "      <td>2017</td>\n",
       "      <td>10</td>\n",
       "      <td>27</td>\n",
       "    </tr>\n",
       "    <tr>\n",
       "      <th>2</th>\n",
       "      <td>UTAElx4+rSh2QViTKHQhC40cphX7ZIYafAOMJOJCshY=</td>\n",
       "      <td>bEJY4dTNVSWM9fPtWc5ZPKyEcxcM1n/DMstAcBlyV2I=</td>\n",
       "      <td>my library</td>\n",
       "      <td>Local playlist more</td>\n",
       "      <td>local-library</td>\n",
       "      <td>0</td>\n",
       "      <td>246595</td>\n",
       "      <td>465</td>\n",
       "      <td>A-Lin</td>\n",
       "      <td>劉勇志</td>\n",
       "      <td>...</td>\n",
       "      <td>female</td>\n",
       "      <td>3</td>\n",
       "      <td>2012-06-14</td>\n",
       "      <td>2018-01-15</td>\n",
       "      <td>2012</td>\n",
       "      <td>6</td>\n",
       "      <td>14</td>\n",
       "      <td>2018</td>\n",
       "      <td>1</td>\n",
       "      <td>15</td>\n",
       "    </tr>\n",
       "    <tr>\n",
       "      <th>3</th>\n",
       "      <td>PGLwS5B5V0FHwHUVdLTWiN0liEWZtXCF3YN1Lv+aH5M=</td>\n",
       "      <td>v/3onppBGoSpGsWb8iaCIO8eX5+iacbH5a4ZUhT7N54=</td>\n",
       "      <td>discover</td>\n",
       "      <td>Online playlist more</td>\n",
       "      <td>online-playlist</td>\n",
       "      <td>1</td>\n",
       "      <td>161175</td>\n",
       "      <td>1616|1609</td>\n",
       "      <td>Alan Walker</td>\n",
       "      <td>Alan Walker| Jesper Borgen| Anders Froen| Gunn...</td>\n",
       "      <td>...</td>\n",
       "      <td>female</td>\n",
       "      <td>9</td>\n",
       "      <td>2004-09-04</td>\n",
       "      <td>2018-05-26</td>\n",
       "      <td>2004</td>\n",
       "      <td>9</td>\n",
       "      <td>4</td>\n",
       "      <td>2018</td>\n",
       "      <td>5</td>\n",
       "      <td>26</td>\n",
       "    </tr>\n",
       "    <tr>\n",
       "      <th>4</th>\n",
       "      <td>8ehTcq2hI/iwZwJmRJqgPrLqmEPDGI4WaB/JiG2R/b0=</td>\n",
       "      <td>vkagi2Lrvjx/FxLWE6FHZFoDoOaSWI052fEQCwouDUs=</td>\n",
       "      <td>discover</td>\n",
       "      <td>Online playlist more</td>\n",
       "      <td>online-playlist</td>\n",
       "      <td>0</td>\n",
       "      <td>287869</td>\n",
       "      <td>465</td>\n",
       "      <td>李榮浩</td>\n",
       "      <td>Li Rong Hao</td>\n",
       "      <td>...</td>\n",
       "      <td>unknown</td>\n",
       "      <td>7</td>\n",
       "      <td>2015-08-15</td>\n",
       "      <td>2017-10-06</td>\n",
       "      <td>2015</td>\n",
       "      <td>8</td>\n",
       "      <td>15</td>\n",
       "      <td>2017</td>\n",
       "      <td>10</td>\n",
       "      <td>6</td>\n",
       "    </tr>\n",
       "  </tbody>\n",
       "</table>\n",
       "<p>5 rows × 24 columns</p>\n",
       "</div>"
      ],
      "text/plain": [
       "                                           msno  \\\n",
       "0  8tSgHKzljg7TyPLYrU9L7CgHIdShVvyV/d6PccMRzhw=   \n",
       "1  AvQSYlMMiYYNMDd+wAuwT0B2yiPuNxGDxai/B4rrWII=   \n",
       "2  UTAElx4+rSh2QViTKHQhC40cphX7ZIYafAOMJOJCshY=   \n",
       "3  PGLwS5B5V0FHwHUVdLTWiN0liEWZtXCF3YN1Lv+aH5M=   \n",
       "4  8ehTcq2hI/iwZwJmRJqgPrLqmEPDGI4WaB/JiG2R/b0=   \n",
       "\n",
       "                                        song_id source_system_tab  \\\n",
       "0  XywYVZbNMapxoPCNykyH/VQ+RElMw2PrF/6tVhUbgS8=        my library   \n",
       "1  43Qm2YzsP99P5wm37B1JIhezUcQ/1CDjYlQx6rBbz2U=        my library   \n",
       "2  bEJY4dTNVSWM9fPtWc5ZPKyEcxcM1n/DMstAcBlyV2I=        my library   \n",
       "3  v/3onppBGoSpGsWb8iaCIO8eX5+iacbH5a4ZUhT7N54=          discover   \n",
       "4  vkagi2Lrvjx/FxLWE6FHZFoDoOaSWI052fEQCwouDUs=          discover   \n",
       "\n",
       "     source_screen_name          source_type  target  song_length  genre_ids  \\\n",
       "0            Album more                album       0       125945       2022   \n",
       "1               unknown  top-hits-for-artist       0       346272        458   \n",
       "2   Local playlist more        local-library       0       246595        465   \n",
       "3  Online playlist more      online-playlist       1       161175  1616|1609   \n",
       "4  Online playlist more      online-playlist       0       287869        465   \n",
       "\n",
       "    artist_name                                           composer  ...  \\\n",
       "0      RADWIMPS                                     Akira Kuwahara  ...   \n",
       "1  五月天 (Mayday)                                                 怪獸  ...   \n",
       "2         A-Lin                                                劉勇志  ...   \n",
       "3   Alan Walker  Alan Walker| Jesper Borgen| Anders Froen| Gunn...  ...   \n",
       "4           李榮浩                                        Li Rong Hao  ...   \n",
       "\n",
       "    gender  registered_via  registration_init_time  expiration_date  \\\n",
       "0  unknown               3              2014-07-18       2017-10-22   \n",
       "1   female               9              2004-03-31       2017-10-27   \n",
       "2   female               3              2012-06-14       2018-01-15   \n",
       "3   female               9              2004-09-04       2018-05-26   \n",
       "4  unknown               7              2015-08-15       2017-10-06   \n",
       "\n",
       "  registration_init_time_year  registration_init_time_month  \\\n",
       "0                        2014                             7   \n",
       "1                        2004                             3   \n",
       "2                        2012                             6   \n",
       "3                        2004                             9   \n",
       "4                        2015                             8   \n",
       "\n",
       "  registration_init_time_day expiration_date_year  expiration_date_month  \\\n",
       "0                         18                 2017                     10   \n",
       "1                         31                 2017                     10   \n",
       "2                         14                 2018                      1   \n",
       "3                          4                 2018                      5   \n",
       "4                         15                 2017                     10   \n",
       "\n",
       "   expiration_date_day  \n",
       "0                   22  \n",
       "1                   27  \n",
       "2                   15  \n",
       "3                   26  \n",
       "4                    6  \n",
       "\n",
       "[5 rows x 24 columns]"
      ]
     },
     "execution_count": 16,
     "metadata": {},
     "output_type": "execute_result"
    }
   ],
   "source": [
    "df.head()"
   ]
  },
  {
   "cell_type": "code",
   "execution_count": 17,
   "metadata": {},
   "outputs": [],
   "source": [
    "# Dates to categoty\n",
    "df['registration_init_time'] = df['registration_init_time'].astype('category')\n",
    "df['expiration_date'] = df['expiration_date'].astype('category')"
   ]
  },
  {
   "cell_type": "code",
   "execution_count": 18,
   "metadata": {},
   "outputs": [],
   "source": [
    "# Object data to category\n",
    "for col in df.select_dtypes(include=['object']).columns:\n",
    "    df[col] = df[col].astype('category')\n",
    "    \n",
    "# Encoding categorical features\n",
    "for col in df.select_dtypes(include=['category']).columns:\n",
    "    df[col] = df[col].cat.codes"
   ]
  },
  {
   "cell_type": "code",
   "execution_count": 19,
   "metadata": {},
   "outputs": [
    {
     "data": {
      "image/png": "[encoded data removed]",
      "text/plain": [
       "<Figure size 504x360 with 2 Axes>"
      ]
     },
     "metadata": {
      "needs_background": "light"
     },
     "output_type": "display_data"
    }
   ],
   "source": [
    "# Сorrelation matrix\n",
    "plt.figure(figsize=[7,5])\n",
    "sns.heatmap(df.corr())\n",
    "plt.show()"
   ]
  },
  {
   "cell_type": "code",
   "execution_count": 20,
   "metadata": {},
   "outputs": [],
   "source": [
    "# Drop columns\n",
    "df = df.drop(['expiration_date', 'lyricist'], 1)"
   ]
  },
  {
   "cell_type": "code",
   "execution_count": 21,
   "metadata": {},
   "outputs": [
    {
     "data": {
      "text/plain": [
       "RandomForestClassifier(bootstrap=True, class_weight=None, criterion='gini',\n",
       "                       max_depth=25, max_features='auto', max_leaf_nodes=None,\n",
       "                       min_impurity_decrease=0.0, min_impurity_split=None,\n",
       "                       min_samples_leaf=1, min_samples_split=2,\n",
       "                       min_weight_fraction_leaf=0.0, n_estimators=250,\n",
       "                       n_jobs=None, oob_score=False, random_state=None,\n",
       "                       verbose=0, warm_start=False)"
      ]
     },
     "execution_count": 21,
     "metadata": {},
     "output_type": "execute_result"
    }
   ],
   "source": [
    "# Model with the best estimator\n",
    "model = ensemble.RandomForestClassifier(n_estimators=250, max_depth=25)\n",
    "model.fit(df[df.columns[df.columns != 'target']], df.target)"
   ]
  },
  {
   "cell_type": "code",
   "execution_count": 22,
   "metadata": {},
   "outputs": [],
   "source": [
    "df_plot = pd.DataFrame({'features': df.columns[df.columns != 'target'],\n",
    "                        'importances': model.feature_importances_})\n",
    "df_plot = df_plot.sort_values('importances', ascending=False)"
   ]
  },
  {
   "cell_type": "code",
   "execution_count": 23,
   "metadata": {},
   "outputs": [
    {
     "data": {
      "image/png": "[encoded data removed]",
      "text/plain": [
       "<Figure size 792x360 with 1 Axes>"
      ]
     },
     "metadata": {
      "needs_background": "light"
     },
     "output_type": "display_data"
    }
   ],
   "source": [
    "plt.figure(figsize=[11,5])\n",
    "sns.barplot(x = df_plot.importances, y = df_plot.features)\n",
    "plt.title('Importances of Features Plot')\n",
    "plt.show()"
   ]
  },
  {
   "cell_type": "code",
   "execution_count": 24,
   "metadata": {},
   "outputs": [],
   "source": [
    "# Drop columns with importances < 0.04\n",
    "df = df.drop(df_plot.features[df_plot.importances < 0.04].tolist(), 1)"
   ]
  },
  {
   "cell_type": "code",
   "execution_count": 32,
   "metadata": {},
   "outputs": [
    {
     "data": {
      "text/plain": [
       "Index(['msno', 'song_id', 'source_screen_name', 'source_type', 'song_length',\n",
       "       'artist_name', 'composer', 'bd', 'registration_init_time',\n",
       "       'registration_init_time_month', 'registration_init_time_day',\n",
       "       'expiration_date_day'],\n",
       "      dtype='object')"
      ]
     },
     "execution_count": 32,
     "metadata": {},
     "output_type": "execute_result"
    }
   ],
   "source": [
    "# Selected columns\n",
    "df.columns"
   ]
  },
  {
   "cell_type": "markdown",
   "metadata": {},
   "source": [
    "# XGBOOST"
   ]
  },
  {
   "cell_type": "code",
   "execution_count": 33,
   "metadata": {},
   "outputs": [
    {
     "data": {
      "text/plain": [
       "0        0\n",
       "1        0\n",
       "2        0\n",
       "3        1\n",
       "4        0\n",
       "5        1\n",
       "6        0\n",
       "7        0\n",
       "8        1\n",
       "9        0\n",
       "10       0\n",
       "11       0\n",
       "12       1\n",
       "13       0\n",
       "14       1\n",
       "15       0\n",
       "16       0\n",
       "17       1\n",
       "18       0\n",
       "19       0\n",
       "20       0\n",
       "21       1\n",
       "22       1\n",
       "23       1\n",
       "24       1\n",
       "25       1\n",
       "26       1\n",
       "27       1\n",
       "28       1\n",
       "29       1\n",
       "        ..\n",
       "73744    0\n",
       "73745    0\n",
       "73746    0\n",
       "73747    0\n",
       "73748    1\n",
       "73749    0\n",
       "73750    0\n",
       "73751    1\n",
       "73752    0\n",
       "73753    0\n",
       "73754    1\n",
       "73755    0\n",
       "73756    1\n",
       "73757    1\n",
       "73758    0\n",
       "73759    1\n",
       "73760    1\n",
       "73761    1\n",
       "73762    1\n",
       "73763    1\n",
       "73764    0\n",
       "73765    0\n",
       "73766    1\n",
       "73767    1\n",
       "73768    0\n",
       "73769    0\n",
       "73770    0\n",
       "73771    0\n",
       "73772    0\n",
       "73773    1\n",
       "Name: target, Length: 73774, dtype: int64"
      ]
     },
     "execution_count": 33,
     "metadata": {},
     "output_type": "execute_result"
    }
   ],
   "source": [
    "target = df.pop('target')\n",
    "target"
   ]
  },
  {
   "cell_type": "code",
   "execution_count": 36,
   "metadata": {},
   "outputs": [],
   "source": [
    "# Train & Test split\n",
    "train_data, test_data, train_labels, test_labels = train_test_split(df, target, test_size = 0.3)\n",
    "\n",
    "# Delete df\n",
    "del df"
   ]
  },
  {
   "cell_type": "code",
   "execution_count": 37,
   "metadata": {},
   "outputs": [
    {
     "data": {
      "text/plain": [
       "XGBClassifier(base_score=0.5, booster='gbtree', colsample_bylevel=1,\n",
       "              colsample_bynode=1, colsample_bytree=1, gamma=0,\n",
       "              learning_rate=0.1, max_delta_step=0, max_depth=15,\n",
       "              min_child_weight=5, missing=None, n_estimators=250, n_jobs=1,\n",
       "              nthread=None, objective='binary:logistic', random_state=0,\n",
       "              reg_alpha=0, reg_lambda=1, scale_pos_weight=1, seed=None,\n",
       "              silent=None, subsample=1, verbosity=1)"
      ]
     },
     "execution_count": 37,
     "metadata": {},
     "output_type": "execute_result"
    }
   ],
   "source": [
    "# Create model\n",
    "model = xgb.XGBClassifier(learning_rate=0.1, max_depth=15, min_child_weight=5, n_estimators=250)\n",
    "model.fit(train_data, train_labels)"
   ]
  },
  {
   "cell_type": "code",
   "execution_count": 38,
   "metadata": {},
   "outputs": [],
   "source": [
    "# Predicting\n",
    "predict_labels = model.predict(test_data)"
   ]
  },
  {
   "cell_type": "code",
   "execution_count": 39,
   "metadata": {},
   "outputs": [
    {
     "name": "stdout",
     "output_type": "stream",
     "text": [
      "              precision    recall  f1-score   support\n",
      "\n",
      "           0       0.62      0.60      0.61     11018\n",
      "           1       0.62      0.64      0.63     11115\n",
      "\n",
      "    accuracy                           0.62     22133\n",
      "   macro avg       0.62      0.62      0.62     22133\n",
      "weighted avg       0.62      0.62      0.62     22133\n",
      "\n"
     ]
    }
   ],
   "source": [
    "print(metrics.classification_report(test_labels, predict_labels))"
   ]
  }
 ],
 "metadata": {
  "kernelspec": {
   "display_name": "Python 3",
   "language": "python",
   "name": "python3"
  },
  "language_info": {
   "codemirror_mode": {
    "name": "ipython",
    "version": 3
   },
   "file_extension": ".py",
   "mimetype": "text/x-python",
   "name": "python",
   "nbconvert_exporter": "python",
   "pygments_lexer": "ipython3",
   "version": "3.7.3"
  }
 },
 "nbformat": 4,
 "nbformat_minor": 2
}
