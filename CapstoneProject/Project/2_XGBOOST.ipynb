{
 "cells": [
  {
   "cell_type": "markdown",
   "metadata": {},
   "source": [
    "https://www.kaggle.com/myonin/music-recommendation-random-forest-xgboost"
   ]
  },
  {
   "cell_type": "code",
   "execution_count": 1,
   "metadata": {},
   "outputs": [],
   "source": [
    "# Load Python libraries\n",
    "from sklearn import metrics, ensemble\n",
    "from sklearn.model_selection import cross_validate,GridSearchCV,train_test_split\n",
    "import xgboost as xgb\n",
    "import numpy as np\n",
    "import pandas as pd\n",
    "import seaborn as sns\n",
    "import matplotlib.pyplot as plt\n",
    "import matplotlib as mpl\n",
    "import warnings\n",
    "warnings.filterwarnings('ignore')\n",
    "plt.style.use('ggplot')"
   ]
  },
  {
   "cell_type": "code",
   "execution_count": 2,
   "metadata": {},
   "outputs": [],
   "source": [
    "# Load data\n",
    "df = pd.read_csv('input/train.csv')\n",
    "\n",
    "# 1% sample of items\n",
    "df = df.sample(frac=0.01)"
   ]
  },
  {
   "cell_type": "code",
   "execution_count": 3,
   "metadata": {},
   "outputs": [],
   "source": [
    "# Load and join songs data\n",
    "songs = pd.read_csv('input/songs.csv')\n",
    "df = pd.merge(df, songs, on='song_id', how='left')\n",
    "del songs\n",
    "\n",
    "# Load and join songs data\n",
    "members = pd.read_csv('input/members.csv')\n",
    "df = pd.merge(df, members, on='msno', how='left')\n",
    "del members"
   ]
  },
  {
   "cell_type": "code",
   "execution_count": 4,
   "metadata": {},
   "outputs": [
    {
     "name": "stdout",
     "output_type": "stream",
     "text": [
      "<class 'pandas.core.frame.DataFrame'>\n",
      "Int64Index: 73774 entries, 0 to 73773\n",
      "Data columns (total 18 columns):\n",
      "msno                      73774 non-null object\n",
      "song_id                   73774 non-null object\n",
      "source_system_tab         73534 non-null object\n",
      "source_screen_name        69517 non-null object\n",
      "source_type               73550 non-null object\n",
      "target                    73774 non-null int64\n",
      "song_length               73772 non-null float64\n",
      "genre_ids                 72611 non-null object\n",
      "artist_name               73772 non-null object\n",
      "composer                  56803 non-null object\n",
      "lyricist                  41689 non-null object\n",
      "language                  73771 non-null float64\n",
      "city                      73774 non-null int64\n",
      "bd                        73774 non-null int64\n",
      "gender                    44037 non-null object\n",
      "registered_via            73774 non-null int64\n",
      "registration_init_time    73774 non-null int64\n",
      "expiration_date           73774 non-null int64\n",
      "dtypes: float64(2), int64(6), object(10)\n",
      "memory usage: 10.7+ MB\n"
     ]
    }
   ],
   "source": [
    "df.info()"
   ]
  },
  {
   "cell_type": "code",
   "execution_count": 5,
   "metadata": {},
   "outputs": [
    {
     "data": {
      "text/plain": [
       "msno                       0.000000\n",
       "song_id                    0.000000\n",
       "source_system_tab          0.325318\n",
       "source_screen_name         5.770326\n",
       "source_type                0.303630\n",
       "target                     0.000000\n",
       "song_length                0.002711\n",
       "genre_ids                  1.576436\n",
       "artist_name                0.002711\n",
       "composer                  23.004039\n",
       "lyricist                  43.490932\n",
       "language                   0.004066\n",
       "city                       0.000000\n",
       "bd                         0.000000\n",
       "gender                    40.308239\n",
       "registered_via             0.000000\n",
       "registration_init_time     0.000000\n",
       "expiration_date            0.000000\n",
       "dtype: float64"
      ]
     },
     "execution_count": 5,
     "metadata": {},
     "output_type": "execute_result"
    }
   ],
   "source": [
    "# Count Na in %\n",
    "df.isnull().sum()/df.isnull().count()*100"
   ]
  },
  {
   "cell_type": "code",
   "execution_count": 6,
   "metadata": {},
   "outputs": [],
   "source": [
    "# Replace NA\n",
    "for i in df.select_dtypes(include=['object']).columns:\n",
    "    df[i][df[i].isnull()] = 'unknown'\n",
    "df = df.fillna(value=0)"
   ]
  },
  {
   "cell_type": "code",
   "execution_count": 7,
   "metadata": {},
   "outputs": [],
   "source": [
    "# Create Dates\n",
    "\n",
    "# registration_init_time\n",
    "df.registration_init_time = pd.to_datetime(df.registration_init_time, format='%Y%m%d', errors='ignore')\n",
    "df['registration_init_time_year'] = df['registration_init_time'].dt.year\n",
    "df['registration_init_time_month'] = df['registration_init_time'].dt.month\n",
    "df['registration_init_time_day'] = df['registration_init_time'].dt.day\n",
    "\n",
    "# expiration_date\n",
    "df.expiration_date = pd.to_datetime(df.expiration_date,  format='%Y%m%d', errors='ignore')\n",
    "df['expiration_date_year'] = df['expiration_date'].dt.year\n",
    "df['expiration_date_month'] = df['expiration_date'].dt.month\n",
    "df['expiration_date_day'] = df['expiration_date'].dt.day"
   ]
  },
  {
   "cell_type": "code",
   "execution_count": 8,
   "metadata": {},
   "outputs": [
    {
     "data": {
      "text/html": [
       "<div>\n",
       "<style scoped>\n",
       "    .dataframe tbody tr th:only-of-type {\n",
       "        vertical-align: middle;\n",
       "    }\n",
       "\n",
       "    .dataframe tbody tr th {\n",
       "        vertical-align: top;\n",
       "    }\n",
       "\n",
       "    .dataframe thead th {\n",
       "        text-align: right;\n",
       "    }\n",
       "</style>\n",
       "<table border=\"1\" class=\"dataframe\">\n",
       "  <thead>\n",
       "    <tr style=\"text-align: right;\">\n",
       "      <th></th>\n",
       "      <th>msno</th>\n",
       "      <th>song_id</th>\n",
       "      <th>source_system_tab</th>\n",
       "      <th>source_screen_name</th>\n",
       "      <th>source_type</th>\n",
       "      <th>target</th>\n",
       "      <th>song_length</th>\n",
       "      <th>genre_ids</th>\n",
       "      <th>artist_name</th>\n",
       "      <th>composer</th>\n",
       "      <th>...</th>\n",
       "      <th>gender</th>\n",
       "      <th>registered_via</th>\n",
       "      <th>registration_init_time</th>\n",
       "      <th>expiration_date</th>\n",
       "      <th>registration_init_time_year</th>\n",
       "      <th>registration_init_time_month</th>\n",
       "      <th>registration_init_time_day</th>\n",
       "      <th>expiration_date_year</th>\n",
       "      <th>expiration_date_month</th>\n",
       "      <th>expiration_date_day</th>\n",
       "    </tr>\n",
       "  </thead>\n",
       "  <tbody>\n",
       "    <tr>\n",
       "      <th>0</th>\n",
       "      <td>o+5RNlSWrzvrphgBNGIo1FLkGxBgyICns6qXj3nS7Pk=</td>\n",
       "      <td>I6cPsYnhiNRQOADF6/7Qao+xuC57H5i39hqqgzGqwZs=</td>\n",
       "      <td>my library</td>\n",
       "      <td>Local playlist more</td>\n",
       "      <td>local-library</td>\n",
       "      <td>1</td>\n",
       "      <td>240419.0</td>\n",
       "      <td>465</td>\n",
       "      <td>John Newman</td>\n",
       "      <td>unknown</td>\n",
       "      <td>...</td>\n",
       "      <td>male</td>\n",
       "      <td>3</td>\n",
       "      <td>2016-03-06</td>\n",
       "      <td>2017-08-11</td>\n",
       "      <td>2016</td>\n",
       "      <td>3</td>\n",
       "      <td>6</td>\n",
       "      <td>2017</td>\n",
       "      <td>8</td>\n",
       "      <td>11</td>\n",
       "    </tr>\n",
       "    <tr>\n",
       "      <th>1</th>\n",
       "      <td>uQQHTQJ1nVEkBfbXe0f1/J9ML5eQhsQiocCV5TvvCRI=</td>\n",
       "      <td>F5hqzPn/b7gPZX3CNvKaRvvZBQDgSpM1spwHOM/Qu1U=</td>\n",
       "      <td>my library</td>\n",
       "      <td>Local playlist more</td>\n",
       "      <td>local-library</td>\n",
       "      <td>1</td>\n",
       "      <td>281495.0</td>\n",
       "      <td>465</td>\n",
       "      <td>梁靜茹 (Fish Leong)</td>\n",
       "      <td>unknown</td>\n",
       "      <td>...</td>\n",
       "      <td>female</td>\n",
       "      <td>9</td>\n",
       "      <td>2013-09-12</td>\n",
       "      <td>2017-09-12</td>\n",
       "      <td>2013</td>\n",
       "      <td>9</td>\n",
       "      <td>12</td>\n",
       "      <td>2017</td>\n",
       "      <td>9</td>\n",
       "      <td>12</td>\n",
       "    </tr>\n",
       "    <tr>\n",
       "      <th>2</th>\n",
       "      <td>my1bJaiDsy5D+/leKCQOvAuY1uNVVM1dzAXN1z7kd9g=</td>\n",
       "      <td>DNUVIVThZnYGuKKhy0RnyUmw9jDWb2/zCv6/14wC4qA=</td>\n",
       "      <td>my library</td>\n",
       "      <td>Local playlist more</td>\n",
       "      <td>local-library</td>\n",
       "      <td>1</td>\n",
       "      <td>274599.0</td>\n",
       "      <td>465</td>\n",
       "      <td>吳亦凡 (Kris Wu)</td>\n",
       "      <td>宋秉洋</td>\n",
       "      <td>...</td>\n",
       "      <td>female</td>\n",
       "      <td>9</td>\n",
       "      <td>2008-04-13</td>\n",
       "      <td>2017-10-02</td>\n",
       "      <td>2008</td>\n",
       "      <td>4</td>\n",
       "      <td>13</td>\n",
       "      <td>2017</td>\n",
       "      <td>10</td>\n",
       "      <td>2</td>\n",
       "    </tr>\n",
       "    <tr>\n",
       "      <th>3</th>\n",
       "      <td>NAIo8bFZpUxl9BOwUfWiN+GWfozOiUPWzt3VGA7UpeE=</td>\n",
       "      <td>gr6pXoiiCkTnJgdQiy9TnGJz+8m1rbmiqY3ePB8PX/U=</td>\n",
       "      <td>discover</td>\n",
       "      <td>unknown</td>\n",
       "      <td>top-hits-for-artist</td>\n",
       "      <td>0</td>\n",
       "      <td>238027.0</td>\n",
       "      <td>465</td>\n",
       "      <td>八三夭 (The Last Day of Summer 831)</td>\n",
       "      <td>八三夭 阿璞</td>\n",
       "      <td>...</td>\n",
       "      <td>female</td>\n",
       "      <td>3</td>\n",
       "      <td>2014-10-15</td>\n",
       "      <td>2017-10-06</td>\n",
       "      <td>2014</td>\n",
       "      <td>10</td>\n",
       "      <td>15</td>\n",
       "      <td>2017</td>\n",
       "      <td>10</td>\n",
       "      <td>6</td>\n",
       "    </tr>\n",
       "    <tr>\n",
       "      <th>4</th>\n",
       "      <td>ADYzhmG0cFvZyHA9eu7DmooZkI97yttbr32MDxPNMDM=</td>\n",
       "      <td>FynUyq0+drmIARmK1JZ/qcjNZ7DKkqTY6/0O0lTzNUI=</td>\n",
       "      <td>my library</td>\n",
       "      <td>Local playlist more</td>\n",
       "      <td>local-playlist</td>\n",
       "      <td>1</td>\n",
       "      <td>287328.0</td>\n",
       "      <td>458</td>\n",
       "      <td>Eric 周興哲</td>\n",
       "      <td>Eric Chou</td>\n",
       "      <td>...</td>\n",
       "      <td>female</td>\n",
       "      <td>3</td>\n",
       "      <td>2016-11-06</td>\n",
       "      <td>2017-10-05</td>\n",
       "      <td>2016</td>\n",
       "      <td>11</td>\n",
       "      <td>6</td>\n",
       "      <td>2017</td>\n",
       "      <td>10</td>\n",
       "      <td>5</td>\n",
       "    </tr>\n",
       "  </tbody>\n",
       "</table>\n",
       "<p>5 rows × 24 columns</p>\n",
       "</div>"
      ],
      "text/plain": [
       "                                           msno  \\\n",
       "0  o+5RNlSWrzvrphgBNGIo1FLkGxBgyICns6qXj3nS7Pk=   \n",
       "1  uQQHTQJ1nVEkBfbXe0f1/J9ML5eQhsQiocCV5TvvCRI=   \n",
       "2  my1bJaiDsy5D+/leKCQOvAuY1uNVVM1dzAXN1z7kd9g=   \n",
       "3  NAIo8bFZpUxl9BOwUfWiN+GWfozOiUPWzt3VGA7UpeE=   \n",
       "4  ADYzhmG0cFvZyHA9eu7DmooZkI97yttbr32MDxPNMDM=   \n",
       "\n",
       "                                        song_id source_system_tab  \\\n",
       "0  I6cPsYnhiNRQOADF6/7Qao+xuC57H5i39hqqgzGqwZs=        my library   \n",
       "1  F5hqzPn/b7gPZX3CNvKaRvvZBQDgSpM1spwHOM/Qu1U=        my library   \n",
       "2  DNUVIVThZnYGuKKhy0RnyUmw9jDWb2/zCv6/14wC4qA=        my library   \n",
       "3  gr6pXoiiCkTnJgdQiy9TnGJz+8m1rbmiqY3ePB8PX/U=          discover   \n",
       "4  FynUyq0+drmIARmK1JZ/qcjNZ7DKkqTY6/0O0lTzNUI=        my library   \n",
       "\n",
       "    source_screen_name          source_type  target  song_length genre_ids  \\\n",
       "0  Local playlist more        local-library       1     240419.0       465   \n",
       "1  Local playlist more        local-library       1     281495.0       465   \n",
       "2  Local playlist more        local-library       1     274599.0       465   \n",
       "3              unknown  top-hits-for-artist       0     238027.0       465   \n",
       "4  Local playlist more       local-playlist       1     287328.0       458   \n",
       "\n",
       "                        artist_name   composer  ...  gender  registered_via  \\\n",
       "0                       John Newman    unknown  ...    male               3   \n",
       "1                  梁靜茹 (Fish Leong)    unknown  ...  female               9   \n",
       "2                     吳亦凡 (Kris Wu)        宋秉洋  ...  female               9   \n",
       "3  八三夭 (The Last Day of Summer 831)     八三夭 阿璞  ...  female               3   \n",
       "4                          Eric 周興哲  Eric Chou  ...  female               3   \n",
       "\n",
       "   registration_init_time  expiration_date registration_init_time_year  \\\n",
       "0              2016-03-06       2017-08-11                        2016   \n",
       "1              2013-09-12       2017-09-12                        2013   \n",
       "2              2008-04-13       2017-10-02                        2008   \n",
       "3              2014-10-15       2017-10-06                        2014   \n",
       "4              2016-11-06       2017-10-05                        2016   \n",
       "\n",
       "   registration_init_time_month registration_init_time_day  \\\n",
       "0                             3                          6   \n",
       "1                             9                         12   \n",
       "2                             4                         13   \n",
       "3                            10                         15   \n",
       "4                            11                          6   \n",
       "\n",
       "  expiration_date_year  expiration_date_month  expiration_date_day  \n",
       "0                 2017                      8                   11  \n",
       "1                 2017                      9                   12  \n",
       "2                 2017                     10                    2  \n",
       "3                 2017                     10                    6  \n",
       "4                 2017                     10                    5  \n",
       "\n",
       "[5 rows x 24 columns]"
      ]
     },
     "execution_count": 8,
     "metadata": {},
     "output_type": "execute_result"
    }
   ],
   "source": [
    "df.head()"
   ]
  },
  {
   "cell_type": "code",
   "execution_count": 9,
   "metadata": {},
   "outputs": [],
   "source": [
    "# Dates to categoty\n",
    "df['registration_init_time'] = df['registration_init_time'].astype('category')\n",
    "df['expiration_date'] = df['expiration_date'].astype('category')"
   ]
  },
  {
   "cell_type": "code",
   "execution_count": 10,
   "metadata": {},
   "outputs": [],
   "source": [
    "# Object data to category\n",
    "for col in df.select_dtypes(include=['object']).columns:\n",
    "    df[col] = df[col].astype('category')\n",
    "    \n",
    "# Encoding categorical features\n",
    "for col in df.select_dtypes(include=['category']).columns:\n",
    "    df[col] = df[col].cat.codes"
   ]
  },
  {
   "cell_type": "code",
   "execution_count": 11,
   "metadata": {},
   "outputs": [
    {
     "data": {
      "image/png": "[encoded data removed]",
      "text/plain": [
       "<Figure size 504x360 with 2 Axes>"
      ]
     },
     "metadata": {
      "needs_background": "light"
     },
     "output_type": "display_data"
    }
   ],
   "source": [
    "# Сorrelation matrix\n",
    "plt.figure(figsize=[7,5])\n",
    "fig1 = sns.heatmap(df.corr())\n",
    "plt.show()\n",
    "#fig1 = plt.gcf()\n",
    "#fig1.savefig('CoRelationMatrix.png')\n",
    "fig = fig1.get_figure()\n",
    "fig.savefig('CoRelationMatrix.png')"
   ]
  },
  {
   "cell_type": "code",
   "execution_count": 12,
   "metadata": {},
   "outputs": [],
   "source": [
    "# Drop columns\n",
    "df = df.drop(['expiration_date', 'lyricist'], 1)"
   ]
  },
  {
   "cell_type": "code",
   "execution_count": 13,
   "metadata": {},
   "outputs": [
    {
     "data": {
      "text/plain": [
       "RandomForestClassifier(bootstrap=True, class_weight=None, criterion='gini',\n",
       "            max_depth=25, max_features='auto', max_leaf_nodes=None,\n",
       "            min_impurity_decrease=0.0, min_impurity_split=None,\n",
       "            min_samples_leaf=1, min_samples_split=2,\n",
       "            min_weight_fraction_leaf=0.0, n_estimators=250, n_jobs=None,\n",
       "            oob_score=False, random_state=None, verbose=0,\n",
       "            warm_start=False)"
      ]
     },
     "execution_count": 13,
     "metadata": {},
     "output_type": "execute_result"
    }
   ],
   "source": [
    "# Model with the best estimator\n",
    "model = ensemble.RandomForestClassifier(n_estimators=250, max_depth=25)\n",
    "model.fit(df[df.columns[df.columns != 'target']], df.target)"
   ]
  },
  {
   "cell_type": "code",
   "execution_count": 14,
   "metadata": {},
   "outputs": [],
   "source": [
    "df_plot = pd.DataFrame({'features': df.columns[df.columns != 'target'],\n",
    "                        'importances': model.feature_importances_})\n",
    "df_plot = df_plot.sort_values('importances', ascending=False)"
   ]
  },
  {
   "cell_type": "code",
   "execution_count": 15,
   "metadata": {},
   "outputs": [
    {
     "data": {
      "image/png": "[encoded data removed]",
      "text/plain": [
       "<Figure size 792x360 with 1 Axes>"
      ]
     },
     "metadata": {
      "needs_background": "light"
     },
     "output_type": "display_data"
    }
   ],
   "source": [
    "plt.figure(figsize=[11,5])\n",
    "fig1 = sns.barplot(x = df_plot.importances, y = df_plot.features)\n",
    "plt.title('Importances of Features Plot')\n",
    "plt.show()\n",
    "#fig1 = plt.gcf()\n",
    "#fig1.savefig('FeatureImportance.png', dpi=100)\n",
    "fig = fig1.get_figure()\n",
    "fig.savefig('FeatureImportance.png')"
   ]
  },
  {
   "cell_type": "code",
   "execution_count": 16,
   "metadata": {},
   "outputs": [],
   "source": [
    "# Drop columns with importances < 0.04\n",
    "df = df.drop(df_plot.features[df_plot.importances < 0.04].tolist(), 1)"
   ]
  },
  {
   "cell_type": "code",
   "execution_count": 17,
   "metadata": {},
   "outputs": [
    {
     "data": {
      "text/plain": [
       "Index(['msno', 'song_id', 'source_screen_name', 'source_type', 'target',\n",
       "       'song_length', 'artist_name', 'composer', 'bd',\n",
       "       'registration_init_time', 'registration_init_time_month',\n",
       "       'registration_init_time_day', 'expiration_date_day'],\n",
       "      dtype='object')"
      ]
     },
     "execution_count": 17,
     "metadata": {},
     "output_type": "execute_result"
    }
   ],
   "source": [
    "# Selected columns\n",
    "df.columns"
   ]
  },
  {
   "cell_type": "markdown",
   "metadata": {},
   "source": [
    "# XGBOOST"
   ]
  },
  {
   "cell_type": "code",
   "execution_count": 18,
   "metadata": {},
   "outputs": [
    {
     "data": {
      "text/plain": [
       "0        1\n",
       "1        1\n",
       "2        1\n",
       "3        0\n",
       "4        1\n",
       "5        1\n",
       "6        0\n",
       "7        1\n",
       "8        0\n",
       "9        1\n",
       "10       0\n",
       "11       1\n",
       "12       0\n",
       "13       0\n",
       "14       0\n",
       "15       1\n",
       "16       0\n",
       "17       1\n",
       "18       0\n",
       "19       0\n",
       "20       1\n",
       "21       1\n",
       "22       0\n",
       "23       0\n",
       "24       1\n",
       "25       1\n",
       "26       1\n",
       "27       1\n",
       "28       0\n",
       "29       0\n",
       "        ..\n",
       "73744    0\n",
       "73745    0\n",
       "73746    1\n",
       "73747    0\n",
       "73748    0\n",
       "73749    0\n",
       "73750    0\n",
       "73751    1\n",
       "73752    0\n",
       "73753    1\n",
       "73754    0\n",
       "73755    1\n",
       "73756    0\n",
       "73757    0\n",
       "73758    1\n",
       "73759    0\n",
       "73760    0\n",
       "73761    1\n",
       "73762    1\n",
       "73763    0\n",
       "73764    1\n",
       "73765    0\n",
       "73766    1\n",
       "73767    1\n",
       "73768    1\n",
       "73769    1\n",
       "73770    0\n",
       "73771    1\n",
       "73772    1\n",
       "73773    1\n",
       "Name: target, Length: 73774, dtype: int64"
      ]
     },
     "execution_count": 18,
     "metadata": {},
     "output_type": "execute_result"
    }
   ],
   "source": [
    "target = df.pop('target')\n",
    "target"
   ]
  },
  {
   "cell_type": "code",
   "execution_count": 19,
   "metadata": {},
   "outputs": [],
   "source": [
    "# Train & Test split\n",
    "train_data, test_data, train_labels, test_labels = train_test_split(df, target, test_size = 0.3)\n",
    "\n",
    "# Delete df\n",
    "del df"
   ]
  },
  {
   "cell_type": "code",
   "execution_count": 20,
   "metadata": {},
   "outputs": [
    {
     "data": {
      "text/plain": [
       "XGBClassifier(base_score=0.5, booster='gbtree', colsample_bylevel=1,\n",
       "       colsample_bynode=1, colsample_bytree=1, gamma=0, learning_rate=0.1,\n",
       "       max_delta_step=0, max_depth=15, min_child_weight=5, missing=None,\n",
       "       n_estimators=250, n_jobs=1, nthread=None,\n",
       "       objective='binary:logistic', random_state=0, reg_alpha=0,\n",
       "       reg_lambda=1, scale_pos_weight=1, seed=None, silent=None,\n",
       "       subsample=1, verbosity=1)"
      ]
     },
     "execution_count": 20,
     "metadata": {},
     "output_type": "execute_result"
    }
   ],
   "source": [
    "# Create model\n",
    "model = xgb.XGBClassifier(learning_rate=0.1, max_depth=15, min_child_weight=5, n_estimators=250)\n",
    "model.fit(train_data, train_labels)"
   ]
  },
  {
   "cell_type": "code",
   "execution_count": 21,
   "metadata": {},
   "outputs": [],
   "source": [
    "# Predicting\n",
    "predict_labels = model.predict(test_data)"
   ]
  },
  {
   "cell_type": "code",
   "execution_count": 22,
   "metadata": {},
   "outputs": [
    {
     "name": "stdout",
     "output_type": "stream",
     "text": [
      "              precision    recall  f1-score   support\n",
      "\n",
      "           0       0.62      0.59      0.60     10972\n",
      "           1       0.62      0.65      0.63     11161\n",
      "\n",
      "   micro avg       0.62      0.62      0.62     22133\n",
      "   macro avg       0.62      0.62      0.62     22133\n",
      "weighted avg       0.62      0.62      0.62     22133\n",
      "\n"
     ]
    }
   ],
   "source": [
    "print(metrics.classification_report(test_labels, predict_labels))"
   ]
  }
 ],
 "metadata": {
  "kernelspec": {
   "display_name": "Python 3",
   "language": "python",
   "name": "python3"
  },
  "language_info": {
   "codemirror_mode": {
    "name": "ipython",
    "version": 3
   },
   "file_extension": ".py",
   "mimetype": "text/x-python",
   "name": "python",
   "nbconvert_exporter": "python",
   "pygments_lexer": "ipython3",
   "version": "3.7.3"
  }
 },
 "nbformat": 4,
 "nbformat_minor": 2
}
